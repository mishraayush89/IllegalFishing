{
 "cells": [
  {
   "cell_type": "code",
   "execution_count": 37,
   "id": "778c29e2",
   "metadata": {},
   "outputs": [],
   "source": [
    "# importing the libraries\n",
    "\n",
    "import numpy as np\n",
    "import pandas as pd\n",
    "import matplotlib.pyplot as plt\n",
    "import seaborn as sns\n",
    "from mpl_toolkits.basemap import Basemap\n",
    "\n",
    "%matplotlib inline"
   ]
  },
  {
   "cell_type": "code",
   "execution_count": 32,
   "id": "ed67c6f6",
   "metadata": {},
   "outputs": [
    {
     "data": {
      "text/html": [
       "<div>\n",
       "<style scoped>\n",
       "    .dataframe tbody tr th:only-of-type {\n",
       "        vertical-align: middle;\n",
       "    }\n",
       "\n",
       "    .dataframe tbody tr th {\n",
       "        vertical-align: top;\n",
       "    }\n",
       "\n",
       "    .dataframe thead th {\n",
       "        text-align: right;\n",
       "    }\n",
       "</style>\n",
       "<table border=\"1\" class=\"dataframe\">\n",
       "  <thead>\n",
       "    <tr style=\"text-align: right;\">\n",
       "      <th></th>\n",
       "      <th>mmsi</th>\n",
       "      <th>timestamp</th>\n",
       "      <th>distance_from_shore</th>\n",
       "      <th>distance_from_port</th>\n",
       "      <th>speed</th>\n",
       "      <th>course</th>\n",
       "      <th>lat</th>\n",
       "      <th>lon</th>\n",
       "      <th>is_fishing</th>\n",
       "      <th>source</th>\n",
       "    </tr>\n",
       "  </thead>\n",
       "  <tbody>\n",
       "    <tr>\n",
       "      <th>0</th>\n",
       "      <td>1.263956e+13</td>\n",
       "      <td>1.327137e+09</td>\n",
       "      <td>232994.281250</td>\n",
       "      <td>311748.65625</td>\n",
       "      <td>8.2</td>\n",
       "      <td>230.500000</td>\n",
       "      <td>14.865583</td>\n",
       "      <td>-26.853662</td>\n",
       "      <td>-1.0</td>\n",
       "      <td>dalhousie_longliner</td>\n",
       "    </tr>\n",
       "    <tr>\n",
       "      <th>1</th>\n",
       "      <td>1.263956e+13</td>\n",
       "      <td>1.327137e+09</td>\n",
       "      <td>233994.265625</td>\n",
       "      <td>312410.34375</td>\n",
       "      <td>7.3</td>\n",
       "      <td>238.399994</td>\n",
       "      <td>14.863870</td>\n",
       "      <td>-26.856800</td>\n",
       "      <td>-1.0</td>\n",
       "      <td>dalhousie_longliner</td>\n",
       "    </tr>\n",
       "    <tr>\n",
       "      <th>2</th>\n",
       "      <td>1.263956e+13</td>\n",
       "      <td>1.327137e+09</td>\n",
       "      <td>233994.265625</td>\n",
       "      <td>312410.34375</td>\n",
       "      <td>6.8</td>\n",
       "      <td>238.899994</td>\n",
       "      <td>14.861551</td>\n",
       "      <td>-26.860649</td>\n",
       "      <td>-1.0</td>\n",
       "      <td>dalhousie_longliner</td>\n",
       "    </tr>\n",
       "    <tr>\n",
       "      <th>3</th>\n",
       "      <td>1.263956e+13</td>\n",
       "      <td>1.327143e+09</td>\n",
       "      <td>233994.265625</td>\n",
       "      <td>315417.37500</td>\n",
       "      <td>6.9</td>\n",
       "      <td>251.800003</td>\n",
       "      <td>14.822686</td>\n",
       "      <td>-26.865898</td>\n",
       "      <td>-1.0</td>\n",
       "      <td>dalhousie_longliner</td>\n",
       "    </tr>\n",
       "    <tr>\n",
       "      <th>4</th>\n",
       "      <td>1.263956e+13</td>\n",
       "      <td>1.327143e+09</td>\n",
       "      <td>233996.390625</td>\n",
       "      <td>316172.56250</td>\n",
       "      <td>6.1</td>\n",
       "      <td>231.100006</td>\n",
       "      <td>14.821825</td>\n",
       "      <td>-26.867579</td>\n",
       "      <td>-1.0</td>\n",
       "      <td>dalhousie_longliner</td>\n",
       "    </tr>\n",
       "    <tr>\n",
       "      <th>5</th>\n",
       "      <td>1.263956e+13</td>\n",
       "      <td>1.327143e+09</td>\n",
       "      <td>233996.390625</td>\n",
       "      <td>316172.56250</td>\n",
       "      <td>6.9</td>\n",
       "      <td>242.699997</td>\n",
       "      <td>14.820652</td>\n",
       "      <td>-26.869459</td>\n",
       "      <td>-1.0</td>\n",
       "      <td>dalhousie_longliner</td>\n",
       "    </tr>\n",
       "    <tr>\n",
       "      <th>6</th>\n",
       "      <td>1.263956e+13</td>\n",
       "      <td>1.327146e+09</td>\n",
       "      <td>246124.015625</td>\n",
       "      <td>329350.37500</td>\n",
       "      <td>7.5</td>\n",
       "      <td>225.399994</td>\n",
       "      <td>14.762110</td>\n",
       "      <td>-26.970394</td>\n",
       "      <td>-1.0</td>\n",
       "      <td>dalhousie_longliner</td>\n",
       "    </tr>\n",
       "    <tr>\n",
       "      <th>7</th>\n",
       "      <td>1.263956e+13</td>\n",
       "      <td>1.327150e+09</td>\n",
       "      <td>259487.375000</td>\n",
       "      <td>343997.37500</td>\n",
       "      <td>8.9</td>\n",
       "      <td>237.199997</td>\n",
       "      <td>14.694498</td>\n",
       "      <td>-27.085396</td>\n",
       "      <td>-1.0</td>\n",
       "      <td>dalhousie_longliner</td>\n",
       "    </tr>\n",
       "    <tr>\n",
       "      <th>8</th>\n",
       "      <td>1.263956e+13</td>\n",
       "      <td>1.327150e+09</td>\n",
       "      <td>259487.375000</td>\n",
       "      <td>343997.37500</td>\n",
       "      <td>8.5</td>\n",
       "      <td>246.800003</td>\n",
       "      <td>14.693447</td>\n",
       "      <td>-27.087166</td>\n",
       "      <td>-1.0</td>\n",
       "      <td>dalhousie_longliner</td>\n",
       "    </tr>\n",
       "    <tr>\n",
       "      <th>9</th>\n",
       "      <td>1.263956e+13</td>\n",
       "      <td>1.327156e+09</td>\n",
       "      <td>286567.562500</td>\n",
       "      <td>371996.25000</td>\n",
       "      <td>9.2</td>\n",
       "      <td>223.699997</td>\n",
       "      <td>14.564687</td>\n",
       "      <td>-27.320160</td>\n",
       "      <td>-1.0</td>\n",
       "      <td>dalhousie_longliner</td>\n",
       "    </tr>\n",
       "  </tbody>\n",
       "</table>\n",
       "</div>"
      ],
      "text/plain": [
       "           mmsi     timestamp  distance_from_shore  distance_from_port  speed  \\\n",
       "0  1.263956e+13  1.327137e+09        232994.281250        311748.65625    8.2   \n",
       "1  1.263956e+13  1.327137e+09        233994.265625        312410.34375    7.3   \n",
       "2  1.263956e+13  1.327137e+09        233994.265625        312410.34375    6.8   \n",
       "3  1.263956e+13  1.327143e+09        233994.265625        315417.37500    6.9   \n",
       "4  1.263956e+13  1.327143e+09        233996.390625        316172.56250    6.1   \n",
       "5  1.263956e+13  1.327143e+09        233996.390625        316172.56250    6.9   \n",
       "6  1.263956e+13  1.327146e+09        246124.015625        329350.37500    7.5   \n",
       "7  1.263956e+13  1.327150e+09        259487.375000        343997.37500    8.9   \n",
       "8  1.263956e+13  1.327150e+09        259487.375000        343997.37500    8.5   \n",
       "9  1.263956e+13  1.327156e+09        286567.562500        371996.25000    9.2   \n",
       "\n",
       "       course        lat        lon  is_fishing               source  \n",
       "0  230.500000  14.865583 -26.853662        -1.0  dalhousie_longliner  \n",
       "1  238.399994  14.863870 -26.856800        -1.0  dalhousie_longliner  \n",
       "2  238.899994  14.861551 -26.860649        -1.0  dalhousie_longliner  \n",
       "3  251.800003  14.822686 -26.865898        -1.0  dalhousie_longliner  \n",
       "4  231.100006  14.821825 -26.867579        -1.0  dalhousie_longliner  \n",
       "5  242.699997  14.820652 -26.869459        -1.0  dalhousie_longliner  \n",
       "6  225.399994  14.762110 -26.970394        -1.0  dalhousie_longliner  \n",
       "7  237.199997  14.694498 -27.085396        -1.0  dalhousie_longliner  \n",
       "8  246.800003  14.693447 -27.087166        -1.0  dalhousie_longliner  \n",
       "9  223.699997  14.564687 -27.320160        -1.0  dalhousie_longliner  "
      ]
     },
     "execution_count": 32,
     "metadata": {},
     "output_type": "execute_result"
    }
   ],
   "source": [
    "driftl_df = pd.read_csv(r\"C:\\Users\\adars\\Downloads\\drifting_longlines.csv\")\n",
    "driftl_df.head(10)"
   ]
  },
  {
   "cell_type": "code",
   "execution_count": 8,
   "id": "3ca666ee",
   "metadata": {},
   "outputs": [
    {
     "data": {
      "text/html": [
       "<div>\n",
       "<style scoped>\n",
       "    .dataframe tbody tr th:only-of-type {\n",
       "        vertical-align: middle;\n",
       "    }\n",
       "\n",
       "    .dataframe tbody tr th {\n",
       "        vertical-align: top;\n",
       "    }\n",
       "\n",
       "    .dataframe thead th {\n",
       "        text-align: right;\n",
       "    }\n",
       "</style>\n",
       "<table border=\"1\" class=\"dataframe\">\n",
       "  <thead>\n",
       "    <tr style=\"text-align: right;\">\n",
       "      <th></th>\n",
       "      <th>mmsi</th>\n",
       "      <th>timestamp</th>\n",
       "      <th>distance_from_shore</th>\n",
       "      <th>distance_from_port</th>\n",
       "      <th>speed</th>\n",
       "      <th>course</th>\n",
       "      <th>lat</th>\n",
       "      <th>lon</th>\n",
       "      <th>is_fishing</th>\n",
       "    </tr>\n",
       "  </thead>\n",
       "  <tbody>\n",
       "    <tr>\n",
       "      <th>count</th>\n",
       "      <td>1.396873e+07</td>\n",
       "      <td>1.396873e+07</td>\n",
       "      <td>1.396873e+07</td>\n",
       "      <td>1.396873e+07</td>\n",
       "      <td>1.396863e+07</td>\n",
       "      <td>1.396863e+07</td>\n",
       "      <td>1.396873e+07</td>\n",
       "      <td>1.396873e+07</td>\n",
       "      <td>1.396873e+07</td>\n",
       "    </tr>\n",
       "    <tr>\n",
       "      <th>mean</th>\n",
       "      <td>1.293850e+14</td>\n",
       "      <td>1.434290e+09</td>\n",
       "      <td>5.845311e+05</td>\n",
       "      <td>7.897505e+05</td>\n",
       "      <td>5.464779e+00</td>\n",
       "      <td>1.814876e+02</td>\n",
       "      <td>-8.997629e+00</td>\n",
       "      <td>3.758693e+00</td>\n",
       "      <td>-9.743015e-01</td>\n",
       "    </tr>\n",
       "    <tr>\n",
       "      <th>std</th>\n",
       "      <td>7.887357e+13</td>\n",
       "      <td>3.984275e+07</td>\n",
       "      <td>5.420068e+05</td>\n",
       "      <td>6.915438e+05</td>\n",
       "      <td>4.043567e+00</td>\n",
       "      <td>1.050503e+02</td>\n",
       "      <td>2.439311e+01</td>\n",
       "      <td>1.095971e+02</td>\n",
       "      <td>2.119947e-01</td>\n",
       "    </tr>\n",
       "    <tr>\n",
       "      <th>min</th>\n",
       "      <td>5.601266e+12</td>\n",
       "      <td>1.325376e+09</td>\n",
       "      <td>0.000000e+00</td>\n",
       "      <td>0.000000e+00</td>\n",
       "      <td>0.000000e+00</td>\n",
       "      <td>0.000000e+00</td>\n",
       "      <td>-7.519017e+01</td>\n",
       "      <td>-1.800000e+02</td>\n",
       "      <td>-1.000000e+00</td>\n",
       "    </tr>\n",
       "    <tr>\n",
       "      <th>25%</th>\n",
       "      <td>6.260384e+13</td>\n",
       "      <td>1.410706e+09</td>\n",
       "      <td>1.019092e+05</td>\n",
       "      <td>2.130206e+05</td>\n",
       "      <td>2.100000e+00</td>\n",
       "      <td>9.070000e+01</td>\n",
       "      <td>-2.601550e+01</td>\n",
       "      <td>-8.808668e+01</td>\n",
       "      <td>-1.000000e+00</td>\n",
       "    </tr>\n",
       "    <tr>\n",
       "      <th>50%</th>\n",
       "      <td>1.184859e+14</td>\n",
       "      <td>1.447302e+09</td>\n",
       "      <td>4.576393e+05</td>\n",
       "      <td>6.375249e+05</td>\n",
       "      <td>5.500000e+00</td>\n",
       "      <td>1.811000e+02</td>\n",
       "      <td>-1.497954e+01</td>\n",
       "      <td>-1.716495e+00</td>\n",
       "      <td>-1.000000e+00</td>\n",
       "    </tr>\n",
       "    <tr>\n",
       "      <th>75%</th>\n",
       "      <td>1.980758e+14</td>\n",
       "      <td>1.466506e+09</td>\n",
       "      <td>9.603664e+05</td>\n",
       "      <td>1.210432e+06</td>\n",
       "      <td>8.500000e+00</td>\n",
       "      <td>2.711000e+02</td>\n",
       "      <td>4.485790e+00</td>\n",
       "      <td>1.009811e+02</td>\n",
       "      <td>-1.000000e+00</td>\n",
       "    </tr>\n",
       "    <tr>\n",
       "      <th>max</th>\n",
       "      <td>2.812058e+14</td>\n",
       "      <td>1.480032e+09</td>\n",
       "      <td>4.430996e+06</td>\n",
       "      <td>7.181037e+06</td>\n",
       "      <td>1.023000e+02</td>\n",
       "      <td>5.110000e+02</td>\n",
       "      <td>8.333266e+01</td>\n",
       "      <td>1.799938e+02</td>\n",
       "      <td>1.000000e+00</td>\n",
       "    </tr>\n",
       "  </tbody>\n",
       "</table>\n",
       "</div>"
      ],
      "text/plain": [
       "               mmsi     timestamp  distance_from_shore  distance_from_port  \\\n",
       "count  1.396873e+07  1.396873e+07         1.396873e+07        1.396873e+07   \n",
       "mean   1.293850e+14  1.434290e+09         5.845311e+05        7.897505e+05   \n",
       "std    7.887357e+13  3.984275e+07         5.420068e+05        6.915438e+05   \n",
       "min    5.601266e+12  1.325376e+09         0.000000e+00        0.000000e+00   \n",
       "25%    6.260384e+13  1.410706e+09         1.019092e+05        2.130206e+05   \n",
       "50%    1.184859e+14  1.447302e+09         4.576393e+05        6.375249e+05   \n",
       "75%    1.980758e+14  1.466506e+09         9.603664e+05        1.210432e+06   \n",
       "max    2.812058e+14  1.480032e+09         4.430996e+06        7.181037e+06   \n",
       "\n",
       "              speed        course           lat           lon    is_fishing  \n",
       "count  1.396863e+07  1.396863e+07  1.396873e+07  1.396873e+07  1.396873e+07  \n",
       "mean   5.464779e+00  1.814876e+02 -8.997629e+00  3.758693e+00 -9.743015e-01  \n",
       "std    4.043567e+00  1.050503e+02  2.439311e+01  1.095971e+02  2.119947e-01  \n",
       "min    0.000000e+00  0.000000e+00 -7.519017e+01 -1.800000e+02 -1.000000e+00  \n",
       "25%    2.100000e+00  9.070000e+01 -2.601550e+01 -8.808668e+01 -1.000000e+00  \n",
       "50%    5.500000e+00  1.811000e+02 -1.497954e+01 -1.716495e+00 -1.000000e+00  \n",
       "75%    8.500000e+00  2.711000e+02  4.485790e+00  1.009811e+02 -1.000000e+00  \n",
       "max    1.023000e+02  5.110000e+02  8.333266e+01  1.799938e+02  1.000000e+00  "
      ]
     },
     "execution_count": 8,
     "metadata": {},
     "output_type": "execute_result"
    }
   ],
   "source": [
    "# Statistical data analysis\n",
    "\n",
    "\n",
    "driftl_df.describe()"
   ]
  },
  {
   "cell_type": "code",
   "execution_count": 10,
   "id": "28d98177",
   "metadata": {},
   "outputs": [
    {
     "data": {
      "text/plain": [
       "(13968727, 10)"
      ]
     },
     "execution_count": 10,
     "metadata": {},
     "output_type": "execute_result"
    }
   ],
   "source": [
    "driftl_df.shape"
   ]
  },
  {
   "cell_type": "code",
   "execution_count": 11,
   "id": "e3fe7094",
   "metadata": {},
   "outputs": [
    {
     "data": {
      "text/plain": [
       "mmsi                    0\n",
       "timestamp               0\n",
       "distance_from_shore     0\n",
       "distance_from_port      0\n",
       "speed                  98\n",
       "course                 98\n",
       "lat                     0\n",
       "lon                     0\n",
       "is_fishing              0\n",
       "source                  0\n",
       "dtype: int64"
      ]
     },
     "execution_count": 11,
     "metadata": {},
     "output_type": "execute_result"
    }
   ],
   "source": [
    "#checking for na values\n",
    "\n",
    "driftl_df.isna().sum()\n"
   ]
  },
  {
   "cell_type": "code",
   "execution_count": 12,
   "id": "21c9b57f",
   "metadata": {},
   "outputs": [
    {
     "data": {
      "text/html": [
       "<div>\n",
       "<style scoped>\n",
       "    .dataframe tbody tr th:only-of-type {\n",
       "        vertical-align: middle;\n",
       "    }\n",
       "\n",
       "    .dataframe tbody tr th {\n",
       "        vertical-align: top;\n",
       "    }\n",
       "\n",
       "    .dataframe thead th {\n",
       "        text-align: right;\n",
       "    }\n",
       "</style>\n",
       "<table border=\"1\" class=\"dataframe\">\n",
       "  <thead>\n",
       "    <tr style=\"text-align: right;\">\n",
       "      <th></th>\n",
       "      <th>mmsi</th>\n",
       "      <th>timestamp</th>\n",
       "      <th>distance_from_shore</th>\n",
       "      <th>distance_from_port</th>\n",
       "      <th>speed</th>\n",
       "      <th>course</th>\n",
       "      <th>lat</th>\n",
       "      <th>lon</th>\n",
       "      <th>is_fishing</th>\n",
       "      <th>source</th>\n",
       "    </tr>\n",
       "  </thead>\n",
       "  <tbody>\n",
       "  </tbody>\n",
       "</table>\n",
       "</div>"
      ],
      "text/plain": [
       "Empty DataFrame\n",
       "Columns: [mmsi, timestamp, distance_from_shore, distance_from_port, speed, course, lat, lon, is_fishing, source]\n",
       "Index: []"
      ]
     },
     "execution_count": 12,
     "metadata": {},
     "output_type": "execute_result"
    }
   ],
   "source": [
    "#check for duplicate rows\n",
    "duplicates = driftl_df.duplicated()\n",
    "driftl_df[duplicates].head()\n"
   ]
  },
  {
   "cell_type": "code",
   "execution_count": 13,
   "id": "0e7b6633",
   "metadata": {},
   "outputs": [
    {
     "data": {
      "text/plain": [
       "(13968727, 10)"
      ]
     },
     "execution_count": 13,
     "metadata": {},
     "output_type": "execute_result"
    }
   ],
   "source": [
    "#Droping duplicate rows\n",
    "driftl_df = driftl_df.drop_duplicates()\n",
    "driftl_df.shape\n"
   ]
  },
  {
   "cell_type": "code",
   "execution_count": 14,
   "id": "e709a0f5",
   "metadata": {},
   "outputs": [
    {
     "data": {
      "text/plain": [
       "(110,)"
      ]
     },
     "execution_count": 14,
     "metadata": {},
     "output_type": "execute_result"
    }
   ],
   "source": [
    "#Number of unique vessels under observation\n",
    "driftl_df['mmsi'].unique().shape\n"
   ]
  },
  {
   "cell_type": "code",
   "execution_count": 15,
   "id": "419e4e85",
   "metadata": {},
   "outputs": [
    {
     "data": {
      "text/plain": [
       "3.186568e+13    577528\n",
       "1.184859e+14    450578\n",
       "6.260384e+13    411087\n",
       "1.576064e+14    367776\n",
       "5.641469e+13    353203\n",
       "                 ...  \n",
       "1.680158e+14     13289\n",
       "1.263956e+13     11846\n",
       "2.774583e+14     11273\n",
       "3.222535e+13     10522\n",
       "2.088869e+14      9749\n",
       "Name: mmsi, Length: 110, dtype: int64"
      ]
     },
     "execution_count": 15,
     "metadata": {},
     "output_type": "execute_result"
    }
   ],
   "source": [
    "driftl_df['mmsi'].value_counts()"
   ]
  },
  {
   "cell_type": "code",
   "execution_count": 36,
   "id": "13d57461",
   "metadata": {},
   "outputs": [
    {
     "data": {
      "text/plain": [
       "<AxesSubplot:xlabel='mmsi', ylabel='count'>"
      ]
     },
     "execution_count": 36,
     "metadata": {},
     "output_type": "execute_result"
    },
    {
     "data": {
      "image/png": "[encoded data removed]",
      "text/plain": [
       "<Figure size 842.4x379.44 with 1 Axes>"
      ]
     },
     "metadata": {},
     "output_type": "display_data"
    }
   ],
   "source": [
    "sns.set(rc={'figure.figsize':(11.7,5.27)})\n",
    "sns.countplot(x=driftl_df['mmsi'])\n"
   ]
  },
  {
   "cell_type": "code",
   "execution_count": 17,
   "id": "1d13eeb2",
   "metadata": {},
   "outputs": [
    {
     "name": "stdout",
     "output_type": "stream",
     "text": [
      "0          2012-01-21 09:01:44\n",
      "1          2012-01-21 09:03:25\n",
      "2          2012-01-21 09:05:34\n",
      "3          2012-01-21 10:54:41\n",
      "4          2012-01-21 10:55:41\n",
      "                   ...        \n",
      "13968722   2016-11-24 23:07:40\n",
      "13968723   2016-11-24 23:10:57\n",
      "13968724   2016-11-24 23:11:00\n",
      "13968725   2016-11-24 23:51:30\n",
      "13968726   2016-11-24 23:59:10\n",
      "Name: timestamp, Length: 13968727, dtype: datetime64[ns]\n"
     ]
    }
   ],
   "source": [
    "#Coverting Unix time to readable date time format\n",
    "    \n",
    "date_time = pd.to_datetime(driftl_df['timestamp'],unit='s')\n",
    "print(date_time)\n"
   ]
  },
  {
   "cell_type": "code",
   "execution_count": 19,
   "id": "21d75b1e",
   "metadata": {},
   "outputs": [
    {
     "data": {
      "image/png": "[encoded data removed]",
      "text/plain": [
       "<Figure size 1440x360 with 1 Axes>"
      ]
     },
     "metadata": {},
     "output_type": "display_data"
    }
   ],
   "source": [
    "# Visualize the distribution of AIS off timestamdriftl across 2-year period\n",
    "\n",
    "plt.figure(figsize=(20,5))\n",
    "# Group dataframe by month and year\n",
    "\n",
    "timing = date_time.groupby([date_time.dt.year,\n",
    "                                              date_time.dt.month])\n",
    "ax = timing.count().plot(kind=\"bar\", rot=75, cmap='icefire')\n",
    "ax.set_xlabel(\"Timestamp (Year, Month)\", fontsize=15)\n",
    "ax.set_ylabel(\"Vessel Count\", fontsize=15)\n",
    "ax.set_title(\"AIS Off Timestamps (2012-2016)\", fontsize=15)\n",
    "ax.tick_params(labelsize=12);\n"
   ]
  },
  {
   "cell_type": "code",
   "execution_count": 20,
   "id": "e68f8686",
   "metadata": {},
   "outputs": [
    {
     "name": "stderr",
     "output_type": "stream",
     "text": [
      "C:\\Users\\adars\\AppData\\Local\\Temp/ipykernel_12948/512409276.py:3: FutureWarning: Treating datetime data as categorical rather than numeric in `.describe` is deprecated and will be removed in a future version of pandas. Specify `datetime_is_numeric=True` to silence this warning and adopt the future behavior now.\n",
      "  pd.to_datetime(driftl_df['timestamp'],unit='s').describe()\n"
     ]
    },
    {
     "data": {
      "text/plain": [
       "count                13968727\n",
       "unique               11172088\n",
       "top       2013-06-29 03:08:06\n",
       "freq                       24\n",
       "first     2012-01-01 00:00:42\n",
       "last      2016-11-24 23:59:59\n",
       "Name: timestamp, dtype: object"
      ]
     },
     "execution_count": 20,
     "metadata": {},
     "output_type": "execute_result"
    }
   ],
   "source": [
    "# Time range of the dataset\n",
    "\n",
    "pd.to_datetime(driftl_df['timestamp'],unit='s').describe()\n",
    "\n",
    "#Start date : 2012-01-03 21:06:29\n",
    "#End date : 2016-11-24 23:58:30\n"
   ]
  },
  {
   "cell_type": "code",
   "execution_count": 21,
   "id": "58d194a9",
   "metadata": {},
   "outputs": [
    {
     "name": "stdout",
     "output_type": "stream",
     "text": [
      "1424781 vessels (45% of observations) have timestamdriftl at shore.\n"
     ]
    }
   ],
   "source": [
    "#Remove Vessels at port\n",
    "\n",
    "#Vessels at shore\n",
    "at_shore = driftl_df.loc[(driftl_df['distance_from_shore'] == 0.00)]\n",
    "print(f\"{len(at_shore)} vessels (45% of observations) have timestamdriftl at shore.\")\n"
   ]
  },
  {
   "cell_type": "code",
   "execution_count": 22,
   "id": "f1f271a1",
   "metadata": {},
   "outputs": [
    {
     "name": "stdout",
     "output_type": "stream",
     "text": [
      "192888 vessels have timestamdriftl at port.\n",
      "                  mmsi     timestamp  distance_from_shore  distance_from_port  \\\n",
      "941       1.263956e+13  1.357954e+09                  0.0                 0.0   \n",
      "942       1.263956e+13  1.357955e+09                  0.0                 0.0   \n",
      "943       1.263956e+13  1.357956e+09                  0.0                 0.0   \n",
      "944       1.263956e+13  1.357957e+09                  0.0                 0.0   \n",
      "945       1.263956e+13  1.357958e+09                  0.0                 0.0   \n",
      "...                ...           ...                  ...                 ...   \n",
      "13965438  2.812058e+14  1.478511e+09                  0.0                 0.0   \n",
      "13965439  2.812058e+14  1.478511e+09                  0.0                 0.0   \n",
      "13965440  2.812058e+14  1.478512e+09                  0.0                 0.0   \n",
      "13965441  2.812058e+14  1.478512e+09                  0.0                 0.0   \n",
      "13965442  2.812058e+14  1.478512e+09                  0.0                 0.0   \n",
      "\n",
      "          speed      course        lat        lon  is_fishing  \\\n",
      "941         0.0  360.000000  28.142174 -15.420237        -1.0   \n",
      "942         0.0   84.599998  28.142139 -15.420203        -1.0   \n",
      "943         0.0  360.000000  28.142216 -15.420203        -1.0   \n",
      "944         0.0  360.000000  28.142183 -15.420265        -1.0   \n",
      "945         0.0   73.199997  28.142174 -15.420217        -1.0   \n",
      "...         ...         ...        ...        ...         ...   \n",
      "13965438    0.0  303.600006  28.142200 -15.421367        -1.0   \n",
      "13965439    0.0  303.600006  28.142200 -15.421367        -1.0   \n",
      "13965440    0.0  186.399994  28.142200 -15.421367        -1.0   \n",
      "13965441    0.0  248.800003  28.142200 -15.421367        -1.0   \n",
      "13965442    0.0  235.800003  28.142200 -15.421367        -1.0   \n",
      "\n",
      "                       source  \n",
      "941       dalhousie_longliner  \n",
      "942       dalhousie_longliner  \n",
      "943       dalhousie_longliner  \n",
      "944       dalhousie_longliner  \n",
      "945       dalhousie_longliner  \n",
      "...                       ...  \n",
      "13965438        crowd_sourced  \n",
      "13965439        crowd_sourced  \n",
      "13965440        crowd_sourced  \n",
      "13965441        crowd_sourced  \n",
      "13965442        crowd_sourced  \n",
      "\n",
      "[192888 rows x 10 columns]\n"
     ]
    }
   ],
   "source": [
    "#Vessels at port\n",
    "at_port = driftl_df.loc[(driftl_df['distance_from_port'] == 0.00)]\n",
    "print(f\"{len(at_port)} vessels have timestamdriftl at port.\")\n",
    "\n",
    "print(at_port)\n",
    "# drop observations where vessel is at port (i.e. distance is 0 m)\n"
   ]
  },
  {
   "cell_type": "code",
   "execution_count": 23,
   "id": "0c10993a",
   "metadata": {},
   "outputs": [],
   "source": [
    "#Droping vessels at port\n",
    "driftl_df.drop(at_port['distance_from_port'] ,axis=0, inplace=True)\n"
   ]
  },
  {
   "cell_type": "code",
   "execution_count": 24,
   "id": "11ece062",
   "metadata": {},
   "outputs": [],
   "source": [
    "driftl_df.loc[driftl_df['is_fishing'] > 0, 'is_fishing'] = 1"
   ]
  },
  {
   "cell_type": "code",
   "execution_count": 25,
   "id": "7c679619",
   "metadata": {},
   "outputs": [
    {
     "data": {
      "text/plain": [
       "-1.0    13748985\n",
       " 1.0      140167\n",
       " 0.0       79574\n",
       "Name: is_fishing, dtype: int64"
      ]
     },
     "execution_count": 25,
     "metadata": {},
     "output_type": "execute_result"
    }
   ],
   "source": [
    "driftl_df['is_fishing'].value_counts()"
   ]
  },
  {
   "cell_type": "code",
   "execution_count": 26,
   "id": "1ad952f4",
   "metadata": {},
   "outputs": [
    {
     "name": "stderr",
     "output_type": "stream",
     "text": [
      "C:\\Users\\adars\\anaconda3\\lib\\site-packages\\seaborn\\_decorators.py:36: FutureWarning: Pass the following variable as a keyword arg: x. From version 0.12, the only valid positional argument will be `data`, and passing other arguments without an explicit keyword will result in an error or misinterpretation.\n",
      "  warnings.warn(\n"
     ]
    },
    {
     "data": {
      "text/plain": [
       "<AxesSubplot:xlabel='is_fishing', ylabel='count'>"
      ]
     },
     "execution_count": 26,
     "metadata": {},
     "output_type": "execute_result"
    },
    {
     "data": {
      "image/png": "[encoded data removed]",
      "text/plain": [
       "<Figure size 842.4x379.44 with 1 Axes>"
      ]
     },
     "metadata": {},
     "output_type": "display_data"
    }
   ],
   "source": [
    "sns.countplot(driftl_df['is_fishing'])"
   ]
  },
  {
   "cell_type": "code",
   "execution_count": 30,
   "id": "b99b5df2",
   "metadata": {},
   "outputs": [
    {
     "name": "stderr",
     "output_type": "stream",
     "text": [
      "C:\\Users\\adars\\anaconda3\\lib\\site-packages\\seaborn\\_decorators.py:36: FutureWarning: Pass the following variable as a keyword arg: x. From version 0.12, the only valid positional argument will be `data`, and passing other arguments without an explicit keyword will result in an error or misinterpretation.\n",
      "  warnings.warn(\n"
     ]
    },
    {
     "data": {
      "text/plain": [
       "<AxesSubplot:xlabel='mmsi', ylabel='count'>"
      ]
     },
     "execution_count": 30,
     "metadata": {},
     "output_type": "execute_result"
    },
    {
     "data": {
      "image/png": "[encoded data removed]",
      "text/plain": [
       "<Figure size 842.4x379.44 with 1 Axes>"
      ]
     },
     "metadata": {},
     "output_type": "display_data"
    }
   ],
   "source": [
    "sns.countplot(driftl_df['mmsi'], hue = driftl_df['is_fishing'])"
   ]
  },
  {
   "cell_type": "code",
   "execution_count": 28,
   "id": "a0e58282",
   "metadata": {},
   "outputs": [
    {
     "name": "stdout",
     "output_type": "stream",
     "text": [
      "[1.26395608e+13 5.13944393e+13 7.71824243e+13 1.03576447e+14\n",
      " 1.18485905e+14 1.68015789e+14 2.15151145e+14 2.57110405e+14\n",
      " 2.81060478e+14 2.37707833e+13 8.12639636e+13 5.60126615e+12\n",
      " 2.35931302e+13 3.18656799e+13 5.64146857e+13 6.06288701e+13\n",
      " 6.87765674e+13 8.05570443e+13 9.18170200e+13 1.00043174e+14\n",
      " 1.22096468e+14 1.32854487e+14 1.57606377e+14 1.82087890e+14\n",
      " 1.88687365e+14 1.96934368e+14 2.07493565e+14 2.60992597e+14\n",
      " 2.66462075e+14 2.77458321e+14 1.65080543e+13 2.00018345e+13\n",
      " 2.12327089e+13 2.34067461e+13 2.79323265e+13 3.03738041e+13\n",
      " 3.22253464e+13 3.32660862e+13 3.64278025e+13 3.79089960e+13\n",
      " 4.09766373e+13 4.19417865e+13 4.84550396e+13 4.91602893e+13\n",
      " 4.95349948e+13 6.26038442e+13 7.20610407e+13 7.57043409e+13\n",
      " 7.78329270e+13 8.36119531e+13 8.49487995e+13 8.79192769e+13\n",
      " 8.80264650e+13 8.91103065e+13 9.50627185e+13 9.62143834e+13\n",
      " 1.00771711e+14 1.02111575e+14 1.08694286e+14 1.09864466e+14\n",
      " 1.17813837e+14 1.19914759e+14 1.32058711e+14 1.34198565e+14\n",
      " 1.34393119e+14 1.38705063e+14 1.41471888e+14 1.43694749e+14\n",
      " 1.49117408e+14 1.57226661e+14 1.57515842e+14 1.60888730e+14\n",
      " 1.74925870e+14 1.77523929e+14 1.80084768e+14 1.83690247e+14\n",
      " 1.84417002e+14 1.87707772e+14 1.92692343e+14 1.94671994e+14\n",
      " 1.96010606e+14 1.97235272e+14 1.98075847e+14 1.98266628e+14\n",
      " 2.02807357e+14 2.04349732e+14 2.05398407e+14 2.07595839e+14\n",
      " 2.07649577e+14 2.08886908e+14 2.08925551e+14 2.10316169e+14\n",
      " 2.12703922e+14 2.24464309e+14 2.25902825e+14 2.29926463e+14\n",
      " 2.40306623e+14 2.49436064e+14 2.50845635e+14 2.51022004e+14\n",
      " 2.52626663e+14 2.53857905e+14 2.55320323e+14 2.57268757e+14\n",
      " 2.58237566e+14 2.62534509e+14 2.63392518e+14 2.71347252e+14\n",
      " 2.78798244e+14 2.81205828e+14]\n"
     ]
    }
   ],
   "source": [
    "print(driftl_df['mmsi'].unique())"
   ]
  },
  {
   "cell_type": "code",
   "execution_count": 29,
   "id": "9654ba49",
   "metadata": {},
   "outputs": [
    {
     "data": {
      "text/plain": [
       "<matplotlib.collections.PathCollection at 0x22b597b77f0>"
      ]
     },
     "execution_count": 29,
     "metadata": {},
     "output_type": "execute_result"
    },
    {
     "data": {
      "image/png": "[encoded data removed]",
      "text/plain": [
       "<Figure size 864x432 with 1 Axes>"
      ]
     },
     "metadata": {},
     "output_type": "display_data"
    }
   ],
   "source": [
    "f = driftl_df.loc[(driftl_df['mmsi'] == 112940878780541.0)]\n",
    "plt.figure(figsize=(12,6))\n",
    "lons, lats = f['lon'].tolist(), f['lat'].tolist()\n",
    "m = Basemap(projection='robin', resolution = 'l', area_thresh = 1000.0, lat_0=0, lon_0=-130)\n",
    "m.bluemarble()\n",
    "m.drawmapboundary()\n",
    "m.fillcontinents()\n",
    "x, y = m(lons, lats)\n",
    "m.scatter(x, y, marker='.',color='red')\n"
   ]
  },
  {
   "cell_type": "code",
   "execution_count": null,
   "id": "ff96fda8",
   "metadata": {},
   "outputs": [],
   "source": []
  }
 ],
 "metadata": {
  "kernelspec": {
   "display_name": "Python 3 (ipykernel)",
   "language": "python",
   "name": "python3"
  },
  "language_info": {
   "codemirror_mode": {
    "name": "ipython",
    "version": 3
   },
   "file_extension": ".py",
   "mimetype": "text/x-python",
   "name": "python",
   "nbconvert_exporter": "python",
   "pygments_lexer": "ipython3",
   "version": "3.9.7"
  }
 },
 "nbformat": 4,
 "nbformat_minor": 5
}
