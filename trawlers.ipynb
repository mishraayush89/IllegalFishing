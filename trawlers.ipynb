{
 "cells": [
  {
   "cell_type": "code",
   "execution_count": 2,
   "id": "6d5b71c0",
   "metadata": {},
   "outputs": [],
   "source": [
    "# importing the libraries\n",
    "\n",
    "import numpy as np\n",
    "import pandas as pd\n",
    "import matplotlib.pyplot as plt\n",
    "import seaborn as sns\n",
    "from mpl_toolkits.basemap import Basemap\n",
    "\n",
    "%matplotlib inline"
   ]
  },
  {
   "cell_type": "code",
   "execution_count": 3,
   "id": "44e83388",
   "metadata": {},
   "outputs": [
    {
     "data": {
      "text/html": [
       "<div>\n",
       "<style scoped>\n",
       "    .dataframe tbody tr th:only-of-type {\n",
       "        vertical-align: middle;\n",
       "    }\n",
       "\n",
       "    .dataframe tbody tr th {\n",
       "        vertical-align: top;\n",
       "    }\n",
       "\n",
       "    .dataframe thead th {\n",
       "        text-align: right;\n",
       "    }\n",
       "</style>\n",
       "<table border=\"1\" class=\"dataframe\">\n",
       "  <thead>\n",
       "    <tr style=\"text-align: right;\">\n",
       "      <th></th>\n",
       "      <th>mmsi</th>\n",
       "      <th>timestamp</th>\n",
       "      <th>distance_from_shore</th>\n",
       "      <th>distance_from_port</th>\n",
       "      <th>speed</th>\n",
       "      <th>course</th>\n",
       "      <th>lat</th>\n",
       "      <th>lon</th>\n",
       "      <th>is_fishing</th>\n",
       "      <th>source</th>\n",
       "    </tr>\n",
       "  </thead>\n",
       "  <tbody>\n",
       "    <tr>\n",
       "      <th>0</th>\n",
       "      <td>1.252340e+12</td>\n",
       "      <td>1.325376e+09</td>\n",
       "      <td>0.0</td>\n",
       "      <td>0.0</td>\n",
       "      <td>0.0</td>\n",
       "      <td>153.0</td>\n",
       "      <td>52.458649</td>\n",
       "      <td>4.581200</td>\n",
       "      <td>-1.0</td>\n",
       "      <td>gfw</td>\n",
       "    </tr>\n",
       "    <tr>\n",
       "      <th>1</th>\n",
       "      <td>1.252340e+12</td>\n",
       "      <td>1.325378e+09</td>\n",
       "      <td>0.0</td>\n",
       "      <td>0.0</td>\n",
       "      <td>0.0</td>\n",
       "      <td>153.0</td>\n",
       "      <td>52.458668</td>\n",
       "      <td>4.581167</td>\n",
       "      <td>-1.0</td>\n",
       "      <td>gfw</td>\n",
       "    </tr>\n",
       "    <tr>\n",
       "      <th>2</th>\n",
       "      <td>1.252340e+12</td>\n",
       "      <td>1.325379e+09</td>\n",
       "      <td>0.0</td>\n",
       "      <td>0.0</td>\n",
       "      <td>0.0</td>\n",
       "      <td>153.0</td>\n",
       "      <td>52.458633</td>\n",
       "      <td>4.581183</td>\n",
       "      <td>-1.0</td>\n",
       "      <td>gfw</td>\n",
       "    </tr>\n",
       "    <tr>\n",
       "      <th>3</th>\n",
       "      <td>1.252340e+12</td>\n",
       "      <td>1.325380e+09</td>\n",
       "      <td>0.0</td>\n",
       "      <td>0.0</td>\n",
       "      <td>0.0</td>\n",
       "      <td>153.0</td>\n",
       "      <td>52.458649</td>\n",
       "      <td>4.581234</td>\n",
       "      <td>-1.0</td>\n",
       "      <td>gfw</td>\n",
       "    </tr>\n",
       "    <tr>\n",
       "      <th>4</th>\n",
       "      <td>1.252340e+12</td>\n",
       "      <td>1.325381e+09</td>\n",
       "      <td>0.0</td>\n",
       "      <td>0.0</td>\n",
       "      <td>0.0</td>\n",
       "      <td>153.0</td>\n",
       "      <td>52.458649</td>\n",
       "      <td>4.581183</td>\n",
       "      <td>-1.0</td>\n",
       "      <td>gfw</td>\n",
       "    </tr>\n",
       "    <tr>\n",
       "      <th>5</th>\n",
       "      <td>1.252340e+12</td>\n",
       "      <td>1.325382e+09</td>\n",
       "      <td>0.0</td>\n",
       "      <td>0.0</td>\n",
       "      <td>0.0</td>\n",
       "      <td>18.0</td>\n",
       "      <td>52.458698</td>\n",
       "      <td>4.581217</td>\n",
       "      <td>-1.0</td>\n",
       "      <td>gfw</td>\n",
       "    </tr>\n",
       "    <tr>\n",
       "      <th>6</th>\n",
       "      <td>1.252340e+12</td>\n",
       "      <td>1.325383e+09</td>\n",
       "      <td>0.0</td>\n",
       "      <td>0.0</td>\n",
       "      <td>0.0</td>\n",
       "      <td>18.0</td>\n",
       "      <td>52.458717</td>\n",
       "      <td>4.581200</td>\n",
       "      <td>-1.0</td>\n",
       "      <td>gfw</td>\n",
       "    </tr>\n",
       "    <tr>\n",
       "      <th>7</th>\n",
       "      <td>1.252340e+12</td>\n",
       "      <td>1.325384e+09</td>\n",
       "      <td>0.0</td>\n",
       "      <td>0.0</td>\n",
       "      <td>0.0</td>\n",
       "      <td>18.0</td>\n",
       "      <td>52.458683</td>\n",
       "      <td>4.581217</td>\n",
       "      <td>-1.0</td>\n",
       "      <td>gfw</td>\n",
       "    </tr>\n",
       "    <tr>\n",
       "      <th>8</th>\n",
       "      <td>1.252340e+12</td>\n",
       "      <td>1.325385e+09</td>\n",
       "      <td>0.0</td>\n",
       "      <td>0.0</td>\n",
       "      <td>0.0</td>\n",
       "      <td>18.0</td>\n",
       "      <td>52.458668</td>\n",
       "      <td>4.581183</td>\n",
       "      <td>-1.0</td>\n",
       "      <td>gfw</td>\n",
       "    </tr>\n",
       "    <tr>\n",
       "      <th>9</th>\n",
       "      <td>1.252340e+12</td>\n",
       "      <td>1.325386e+09</td>\n",
       "      <td>0.0</td>\n",
       "      <td>0.0</td>\n",
       "      <td>0.0</td>\n",
       "      <td>18.0</td>\n",
       "      <td>52.458683</td>\n",
       "      <td>4.581183</td>\n",
       "      <td>-1.0</td>\n",
       "      <td>gfw</td>\n",
       "    </tr>\n",
       "  </tbody>\n",
       "</table>\n",
       "</div>"
      ],
      "text/plain": [
       "           mmsi     timestamp  distance_from_shore  distance_from_port  speed  \\\n",
       "0  1.252340e+12  1.325376e+09                  0.0                 0.0    0.0   \n",
       "1  1.252340e+12  1.325378e+09                  0.0                 0.0    0.0   \n",
       "2  1.252340e+12  1.325379e+09                  0.0                 0.0    0.0   \n",
       "3  1.252340e+12  1.325380e+09                  0.0                 0.0    0.0   \n",
       "4  1.252340e+12  1.325381e+09                  0.0                 0.0    0.0   \n",
       "5  1.252340e+12  1.325382e+09                  0.0                 0.0    0.0   \n",
       "6  1.252340e+12  1.325383e+09                  0.0                 0.0    0.0   \n",
       "7  1.252340e+12  1.325384e+09                  0.0                 0.0    0.0   \n",
       "8  1.252340e+12  1.325385e+09                  0.0                 0.0    0.0   \n",
       "9  1.252340e+12  1.325386e+09                  0.0                 0.0    0.0   \n",
       "\n",
       "   course        lat       lon  is_fishing source  \n",
       "0   153.0  52.458649  4.581200        -1.0    gfw  \n",
       "1   153.0  52.458668  4.581167        -1.0    gfw  \n",
       "2   153.0  52.458633  4.581183        -1.0    gfw  \n",
       "3   153.0  52.458649  4.581234        -1.0    gfw  \n",
       "4   153.0  52.458649  4.581183        -1.0    gfw  \n",
       "5    18.0  52.458698  4.581217        -1.0    gfw  \n",
       "6    18.0  52.458717  4.581200        -1.0    gfw  \n",
       "7    18.0  52.458683  4.581217        -1.0    gfw  \n",
       "8    18.0  52.458668  4.581183        -1.0    gfw  \n",
       "9    18.0  52.458683  4.581183        -1.0    gfw  "
      ]
     },
     "execution_count": 3,
     "metadata": {},
     "output_type": "execute_result"
    }
   ],
   "source": [
    "trawlers_df = pd.read_csv(r\"C:\\Users\\adars\\Downloads\\trawlers.csv\")\n",
    "trawlers_df.head(10)"
   ]
  },
  {
   "cell_type": "code",
   "execution_count": 4,
   "id": "bcfdec82",
   "metadata": {},
   "outputs": [
    {
     "name": "stdout",
     "output_type": "stream",
     "text": [
      "<class 'pandas.core.frame.DataFrame'>\n",
      "RangeIndex: 4369101 entries, 0 to 4369100\n",
      "Data columns (total 10 columns):\n",
      " #   Column               Dtype  \n",
      "---  ------               -----  \n",
      " 0   mmsi                 float64\n",
      " 1   timestamp            float64\n",
      " 2   distance_from_shore  float64\n",
      " 3   distance_from_port   float64\n",
      " 4   speed                float64\n",
      " 5   course               float64\n",
      " 6   lat                  float64\n",
      " 7   lon                  float64\n",
      " 8   is_fishing           float64\n",
      " 9   source               object \n",
      "dtypes: float64(9), object(1)\n",
      "memory usage: 333.3+ MB\n"
     ]
    }
   ],
   "source": [
    "# datatypes of each column \n",
    "\n",
    "trawlers_df.info()"
   ]
  },
  {
   "cell_type": "code",
   "execution_count": 5,
   "id": "19bfadb8",
   "metadata": {},
   "outputs": [
    {
     "data": {
      "text/html": [
       "<div>\n",
       "<style scoped>\n",
       "    .dataframe tbody tr th:only-of-type {\n",
       "        vertical-align: middle;\n",
       "    }\n",
       "\n",
       "    .dataframe tbody tr th {\n",
       "        vertical-align: top;\n",
       "    }\n",
       "\n",
       "    .dataframe thead th {\n",
       "        text-align: right;\n",
       "    }\n",
       "</style>\n",
       "<table border=\"1\" class=\"dataframe\">\n",
       "  <thead>\n",
       "    <tr style=\"text-align: right;\">\n",
       "      <th></th>\n",
       "      <th>mmsi</th>\n",
       "      <th>timestamp</th>\n",
       "      <th>distance_from_shore</th>\n",
       "      <th>distance_from_port</th>\n",
       "      <th>speed</th>\n",
       "      <th>course</th>\n",
       "      <th>lat</th>\n",
       "      <th>lon</th>\n",
       "      <th>is_fishing</th>\n",
       "    </tr>\n",
       "  </thead>\n",
       "  <tbody>\n",
       "    <tr>\n",
       "      <th>count</th>\n",
       "      <td>4.369101e+06</td>\n",
       "      <td>4.369101e+06</td>\n",
       "      <td>4.369101e+06</td>\n",
       "      <td>4.369101e+06</td>\n",
       "      <td>4.369023e+06</td>\n",
       "      <td>4.369023e+06</td>\n",
       "      <td>4.369101e+06</td>\n",
       "      <td>4.369101e+06</td>\n",
       "      <td>4.369101e+06</td>\n",
       "    </tr>\n",
       "    <tr>\n",
       "      <th>mean</th>\n",
       "      <td>1.578952e+14</td>\n",
       "      <td>1.426220e+09</td>\n",
       "      <td>7.819802e+04</td>\n",
       "      <td>1.496648e+05</td>\n",
       "      <td>2.972401e+00</td>\n",
       "      <td>1.744043e+02</td>\n",
       "      <td>3.266757e+01</td>\n",
       "      <td>4.927771e+00</td>\n",
       "      <td>-9.449078e-01</td>\n",
       "    </tr>\n",
       "    <tr>\n",
       "      <th>std</th>\n",
       "      <td>9.494779e+13</td>\n",
       "      <td>3.876472e+07</td>\n",
       "      <td>2.040747e+05</td>\n",
       "      <td>3.279532e+05</td>\n",
       "      <td>4.105081e+00</td>\n",
       "      <td>1.154701e+02</td>\n",
       "      <td>3.837240e+01</td>\n",
       "      <td>8.127552e+01</td>\n",
       "      <td>2.844518e-01</td>\n",
       "    </tr>\n",
       "    <tr>\n",
       "      <th>min</th>\n",
       "      <td>1.252340e+12</td>\n",
       "      <td>1.325376e+09</td>\n",
       "      <td>0.000000e+00</td>\n",
       "      <td>0.000000e+00</td>\n",
       "      <td>0.000000e+00</td>\n",
       "      <td>0.000000e+00</td>\n",
       "      <td>-8.498024e+01</td>\n",
       "      <td>-1.799996e+02</td>\n",
       "      <td>-1.000000e+00</td>\n",
       "    </tr>\n",
       "    <tr>\n",
       "      <th>25%</th>\n",
       "      <td>7.726193e+13</td>\n",
       "      <td>1.397205e+09</td>\n",
       "      <td>0.000000e+00</td>\n",
       "      <td>2.236013e+03</td>\n",
       "      <td>0.000000e+00</td>\n",
       "      <td>6.480000e+01</td>\n",
       "      <td>3.623107e+01</td>\n",
       "      <td>-8.288531e+00</td>\n",
       "      <td>-1.000000e+00</td>\n",
       "    </tr>\n",
       "    <tr>\n",
       "      <th>50%</th>\n",
       "      <td>1.753874e+14</td>\n",
       "      <td>1.434811e+09</td>\n",
       "      <td>4.242537e+03</td>\n",
       "      <td>3.605462e+04</td>\n",
       "      <td>1.500000e+00</td>\n",
       "      <td>1.870000e+02</td>\n",
       "      <td>5.209994e+01</td>\n",
       "      <td>4.584417e+00</td>\n",
       "      <td>-1.000000e+00</td>\n",
       "    </tr>\n",
       "    <tr>\n",
       "      <th>75%</th>\n",
       "      <td>2.402260e+14</td>\n",
       "      <td>1.458922e+09</td>\n",
       "      <td>5.578393e+04</td>\n",
       "      <td>9.608094e+04</td>\n",
       "      <td>4.500000e+00</td>\n",
       "      <td>2.760000e+02</td>\n",
       "      <td>5.463578e+01</td>\n",
       "      <td>1.432063e+01</td>\n",
       "      <td>-1.000000e+00</td>\n",
       "    </tr>\n",
       "    <tr>\n",
       "      <th>max</th>\n",
       "      <td>2.775153e+14</td>\n",
       "      <td>1.480032e+09</td>\n",
       "      <td>3.257453e+06</td>\n",
       "      <td>1.245220e+07</td>\n",
       "      <td>1.023000e+02</td>\n",
       "      <td>5.110000e+02</td>\n",
       "      <td>8.461642e+01</td>\n",
       "      <td>1.799934e+02</td>\n",
       "      <td>1.000000e+00</td>\n",
       "    </tr>\n",
       "  </tbody>\n",
       "</table>\n",
       "</div>"
      ],
      "text/plain": [
       "               mmsi     timestamp  distance_from_shore  distance_from_port  \\\n",
       "count  4.369101e+06  4.369101e+06         4.369101e+06        4.369101e+06   \n",
       "mean   1.578952e+14  1.426220e+09         7.819802e+04        1.496648e+05   \n",
       "std    9.494779e+13  3.876472e+07         2.040747e+05        3.279532e+05   \n",
       "min    1.252340e+12  1.325376e+09         0.000000e+00        0.000000e+00   \n",
       "25%    7.726193e+13  1.397205e+09         0.000000e+00        2.236013e+03   \n",
       "50%    1.753874e+14  1.434811e+09         4.242537e+03        3.605462e+04   \n",
       "75%    2.402260e+14  1.458922e+09         5.578393e+04        9.608094e+04   \n",
       "max    2.775153e+14  1.480032e+09         3.257453e+06        1.245220e+07   \n",
       "\n",
       "              speed        course           lat           lon    is_fishing  \n",
       "count  4.369023e+06  4.369023e+06  4.369101e+06  4.369101e+06  4.369101e+06  \n",
       "mean   2.972401e+00  1.744043e+02  3.266757e+01  4.927771e+00 -9.449078e-01  \n",
       "std    4.105081e+00  1.154701e+02  3.837240e+01  8.127552e+01  2.844518e-01  \n",
       "min    0.000000e+00  0.000000e+00 -8.498024e+01 -1.799996e+02 -1.000000e+00  \n",
       "25%    0.000000e+00  6.480000e+01  3.623107e+01 -8.288531e+00 -1.000000e+00  \n",
       "50%    1.500000e+00  1.870000e+02  5.209994e+01  4.584417e+00 -1.000000e+00  \n",
       "75%    4.500000e+00  2.760000e+02  5.463578e+01  1.432063e+01 -1.000000e+00  \n",
       "max    1.023000e+02  5.110000e+02  8.461642e+01  1.799934e+02  1.000000e+00  "
      ]
     },
     "execution_count": 5,
     "metadata": {},
     "output_type": "execute_result"
    }
   ],
   "source": [
    "# Statistical data analysis\n",
    "\n",
    "\n",
    "trawlers_df.describe()"
   ]
  },
  {
   "cell_type": "code",
   "execution_count": 6,
   "id": "327816d0",
   "metadata": {},
   "outputs": [
    {
     "data": {
      "text/plain": [
       "(4369101, 10)"
      ]
     },
     "execution_count": 6,
     "metadata": {},
     "output_type": "execute_result"
    }
   ],
   "source": [
    "trawlers_df.shape\n",
    "\n",
    "#we have 166243 rows and 10 columns"
   ]
  },
  {
   "cell_type": "code",
   "execution_count": 7,
   "id": "b8988269",
   "metadata": {},
   "outputs": [
    {
     "data": {
      "text/plain": [
       "mmsi                    0\n",
       "timestamp               0\n",
       "distance_from_shore     0\n",
       "distance_from_port      0\n",
       "speed                  78\n",
       "course                 78\n",
       "lat                     0\n",
       "lon                     0\n",
       "is_fishing              0\n",
       "source                  0\n",
       "dtype: int64"
      ]
     },
     "execution_count": 7,
     "metadata": {},
     "output_type": "execute_result"
    }
   ],
   "source": [
    "#checking for na values\n",
    "\n",
    "trawlers_df.isna().sum()\n"
   ]
  },
  {
   "cell_type": "code",
   "execution_count": 8,
   "id": "f8db2526",
   "metadata": {},
   "outputs": [
    {
     "data": {
      "text/html": [
       "<div>\n",
       "<style scoped>\n",
       "    .dataframe tbody tr th:only-of-type {\n",
       "        vertical-align: middle;\n",
       "    }\n",
       "\n",
       "    .dataframe tbody tr th {\n",
       "        vertical-align: top;\n",
       "    }\n",
       "\n",
       "    .dataframe thead th {\n",
       "        text-align: right;\n",
       "    }\n",
       "</style>\n",
       "<table border=\"1\" class=\"dataframe\">\n",
       "  <thead>\n",
       "    <tr style=\"text-align: right;\">\n",
       "      <th></th>\n",
       "      <th>mmsi</th>\n",
       "      <th>timestamp</th>\n",
       "      <th>distance_from_shore</th>\n",
       "      <th>distance_from_port</th>\n",
       "      <th>speed</th>\n",
       "      <th>course</th>\n",
       "      <th>lat</th>\n",
       "      <th>lon</th>\n",
       "      <th>is_fishing</th>\n",
       "      <th>source</th>\n",
       "    </tr>\n",
       "  </thead>\n",
       "  <tbody>\n",
       "  </tbody>\n",
       "</table>\n",
       "</div>"
      ],
      "text/plain": [
       "Empty DataFrame\n",
       "Columns: [mmsi, timestamp, distance_from_shore, distance_from_port, speed, course, lat, lon, is_fishing, source]\n",
       "Index: []"
      ]
     },
     "execution_count": 8,
     "metadata": {},
     "output_type": "execute_result"
    }
   ],
   "source": [
    "#check for duplicate rows\n",
    "duplicates = trawlers_df.duplicated()\n",
    "trawlers_df[duplicates].head()\n"
   ]
  },
  {
   "cell_type": "code",
   "execution_count": 9,
   "id": "e0dd36fc",
   "metadata": {},
   "outputs": [
    {
     "data": {
      "text/plain": [
       "(4369101, 10)"
      ]
     },
     "execution_count": 9,
     "metadata": {},
     "output_type": "execute_result"
    }
   ],
   "source": [
    "#Droping duplicate rows\n",
    "trawlers_df = trawlers_df.drop_duplicates()\n",
    "trawlers_df.shape\n"
   ]
  },
  {
   "cell_type": "code",
   "execution_count": 10,
   "id": "a00096b4",
   "metadata": {},
   "outputs": [
    {
     "data": {
      "text/plain": [
       "(49,)"
      ]
     },
     "execution_count": 10,
     "metadata": {},
     "output_type": "execute_result"
    }
   ],
   "source": [
    "#Number of unique vessels under observation\n",
    "trawlers_df['mmsi'].unique().shape\n"
   ]
  },
  {
   "cell_type": "code",
   "execution_count": 11,
   "id": "88abecd9",
   "metadata": {},
   "outputs": [
    {
     "data": {
      "text/plain": [
       "2.402260e+14    544064\n",
       "2.748501e+14    200525\n",
       "2.073022e+14    177119\n",
       "5.020143e+12    170132\n",
       "1.214265e+14    159639\n",
       "2.690503e+14    154564\n",
       "2.691196e+14    153481\n",
       "1.924269e+14    139538\n",
       "2.684335e+14    139185\n",
       "1.252340e+12    134288\n",
       "8.681774e+13    129460\n",
       "3.985941e+13    128469\n",
       "2.533834e+14    118583\n",
       "5.110130e+13    116535\n",
       "8.681844e+12    116083\n",
       "1.753874e+14    114334\n",
       "8.042345e+13    102263\n",
       "5.145483e+12     90782\n",
       "2.746838e+14     87623\n",
       "4.083411e+13     76532\n",
       "1.641467e+14     74323\n",
       "7.726193e+13     70002\n",
       "2.187965e+14     69574\n",
       "1.985955e+13     65772\n",
       "1.356584e+14     64618\n",
       "2.676099e+14     62944\n",
       "6.960986e+13     61443\n",
       "1.838128e+14     60740\n",
       "3.491170e+13     59921\n",
       "2.311543e+14     57298\n",
       "8.305062e+13     53421\n",
       "7.835965e+13     53396\n",
       "1.217392e+14     50411\n",
       "2.226561e+14     49415\n",
       "1.397611e+14     48348\n",
       "2.189971e+14     47542\n",
       "1.100141e+14     44703\n",
       "1.867463e+14     43410\n",
       "1.439069e+14     42660\n",
       "1.696186e+14     37777\n",
       "2.775153e+14     35126\n",
       "1.414316e+14     30876\n",
       "4.893953e+13     30640\n",
       "1.124532e+14     28483\n",
       "2.248331e+14     19942\n",
       "2.295613e+14     16623\n",
       "1.089163e+14     16321\n",
       "1.163339e+14     10397\n",
       "1.414009e+14      9776\n",
       "Name: mmsi, dtype: int64"
      ]
     },
     "execution_count": 11,
     "metadata": {},
     "output_type": "execute_result"
    }
   ],
   "source": [
    "#Number of data points for each vessel\n",
    "\n",
    "trawlers_df['mmsi'].value_counts()\n"
   ]
  },
  {
   "cell_type": "code",
   "execution_count": 12,
   "id": "c6dc00e5",
   "metadata": {},
   "outputs": [
    {
     "name": "stderr",
     "output_type": "stream",
     "text": [
      "C:\\Users\\adars\\anaconda3\\lib\\site-packages\\seaborn\\_decorators.py:36: FutureWarning: Pass the following variable as a keyword arg: x. From version 0.12, the only valid positional argument will be `data`, and passing other arguments without an explicit keyword will result in an error or misinterpretation.\n",
      "  warnings.warn(\n"
     ]
    },
    {
     "data": {
      "text/plain": [
       "<AxesSubplot:xlabel='mmsi', ylabel='count'>"
      ]
     },
     "execution_count": 12,
     "metadata": {},
     "output_type": "execute_result"
    },
    {
     "data": {
      "image/png": "[encoded data removed]",
      "text/plain": [
       "<Figure size 842.4x379.44 with 1 Axes>"
      ]
     },
     "metadata": {},
     "output_type": "display_data"
    }
   ],
   "source": [
    "sns.set(rc={'figure.figsize':(11.7,5.27)})\n",
    "sns.countplot(trawlers_df['mmsi'])\n"
   ]
  },
  {
   "cell_type": "code",
   "execution_count": 13,
   "id": "719ef2e2",
   "metadata": {},
   "outputs": [
    {
     "name": "stdout",
     "output_type": "stream",
     "text": [
      "0         2012-01-01 00:00:38\n",
      "1         2012-01-01 00:33:13\n",
      "2         2012-01-01 00:43:14\n",
      "3         2012-01-01 00:59:55\n",
      "4         2012-01-01 01:16:00\n",
      "                  ...        \n",
      "4369096   2016-11-24 23:36:39\n",
      "4369097   2016-11-24 23:38:37\n",
      "4369098   2016-11-24 23:40:39\n",
      "4369099   2016-11-24 23:41:38\n",
      "4369100   2016-11-24 23:43:36\n",
      "Name: timestamp, Length: 4369101, dtype: datetime64[ns]\n"
     ]
    }
   ],
   "source": [
    "#Coverting Unix time to readable date time format\n",
    "    \n",
    "date_time = pd.to_datetime(trawlers_df['timestamp'],unit='s')\n",
    "print(date_time)\n"
   ]
  },
  {
   "cell_type": "code",
   "execution_count": 14,
   "id": "ae3ae57f",
   "metadata": {},
   "outputs": [
    {
     "data": {
      "image/png": "[encoded data removed]",
      "text/plain": [
       "<Figure size 1440x360 with 1 Axes>"
      ]
     },
     "metadata": {},
     "output_type": "display_data"
    }
   ],
   "source": [
    "# Visualize the distribution of AIS off timestamtrawlers across 2-year period\n",
    "\n",
    "plt.figure(figsize=(20,5))\n",
    "# Group dataframe by month and year\n",
    "\n",
    "timing = date_time.groupby([date_time.dt.year,\n",
    "                                              date_time.dt.month])\n",
    "ax = timing.count().plot(kind=\"bar\", rot=75, cmap='icefire')\n",
    "ax.set_xlabel(\"Timestamp (Year, Month)\", fontsize=15)\n",
    "ax.set_ylabel(\"Vessel Count\", fontsize=15)\n",
    "ax.set_title(\"AIS Off Timestamtrawlers (2012-2016)\", fontsize=15)\n",
    "ax.tick_params(labelsize=12);\n"
   ]
  },
  {
   "cell_type": "code",
   "execution_count": 16,
   "id": "49edc781",
   "metadata": {},
   "outputs": [
    {
     "name": "stderr",
     "output_type": "stream",
     "text": [
      "C:\\Users\\adars\\AppData\\Local\\Temp/ipykernel_6840/830289452.py:3: FutureWarning: Treating datetime data as categorical rather than numeric in `.describe` is deprecated and will be removed in a future version of pandas. Specify `datetime_is_numeric=True` to silence this warning and adopt the future behavior now.\n",
      "  pd.to_datetime(trawlers_df['timestamp'],unit='s').describe()\n"
     ]
    },
    {
     "data": {
      "text/plain": [
       "count                 4369101\n",
       "unique                4188604\n",
       "top       2013-07-09 20:53:41\n",
       "freq                       64\n",
       "first     2012-01-01 00:00:38\n",
       "last      2016-11-24 23:59:22\n",
       "Name: timestamp, dtype: object"
      ]
     },
     "execution_count": 16,
     "metadata": {},
     "output_type": "execute_result"
    }
   ],
   "source": [
    "\n",
    "# Time range of the dataset\n",
    "\n",
    "pd.to_datetime(trawlers_df['timestamp'],unit='s').describe()\n",
    "\n",
    "#Start date : 2012-01-03 21:06:29\n",
    "#End date : 2016-11-24 23:58:30\n"
   ]
  },
  {
   "cell_type": "code",
   "execution_count": 17,
   "id": "27b1d705",
   "metadata": {},
   "outputs": [
    {
     "name": "stdout",
     "output_type": "stream",
     "text": [
      "1885633 vessels (45% of observations) have timestamtrawlers at shore.\n"
     ]
    }
   ],
   "source": [
    "#Remove Vessels at port\n",
    "\n",
    "#Vessels at shore\n",
    "at_shore = trawlers_df.loc[(trawlers_df['distance_from_shore'] == 0.00)]\n",
    "print(f\"{len(at_shore)} vessels (45% of observations) have timestamtrawlers at shore.\")\n"
   ]
  },
  {
   "cell_type": "code",
   "execution_count": 18,
   "id": "d13cbe7a",
   "metadata": {},
   "outputs": [
    {
     "name": "stdout",
     "output_type": "stream",
     "text": [
      "169444 vessels have timestamtrawlers at port.\n",
      "                 mmsi     timestamp  distance_from_shore  distance_from_port  \\\n",
      "0        1.252340e+12  1.325376e+09                  0.0                 0.0   \n",
      "1        1.252340e+12  1.325378e+09                  0.0                 0.0   \n",
      "2        1.252340e+12  1.325379e+09                  0.0                 0.0   \n",
      "3        1.252340e+12  1.325380e+09                  0.0                 0.0   \n",
      "4        1.252340e+12  1.325381e+09                  0.0                 0.0   \n",
      "...               ...           ...                  ...                 ...   \n",
      "4343748  1.838128e+14  1.467938e+09                  0.0                 0.0   \n",
      "4350091  1.838128e+14  1.469904e+09                  0.0                 0.0   \n",
      "4350092  1.838128e+14  1.469904e+09                  0.0                 0.0   \n",
      "4357650  1.838128e+14  1.472137e+09                  0.0                 0.0   \n",
      "4368746  1.838128e+14  1.479967e+09                  0.0                 0.0   \n",
      "\n",
      "         speed      course        lat         lon  is_fishing           source  \n",
      "0          0.0  153.000000  52.458649    4.581200        -1.0              gfw  \n",
      "1          0.0  153.000000  52.458668    4.581167        -1.0              gfw  \n",
      "2          0.0  153.000000  52.458633    4.581183        -1.0              gfw  \n",
      "3          0.0  153.000000  52.458649    4.581234        -1.0              gfw  \n",
      "4          0.0  153.000000  52.458649    4.581183        -1.0              gfw  \n",
      "...        ...         ...        ...         ...         ...              ...  \n",
      "4343748    5.0  274.200012 -41.264584  173.260727        -1.0  false_positives  \n",
      "4350091    5.3   97.599998 -41.264137  173.260574        -1.0  false_positives  \n",
      "4350092    5.1   85.900002 -41.264153  173.261520        -1.0  false_positives  \n",
      "4357650    5.7   88.800003 -41.264366  173.260941        -1.0  false_positives  \n",
      "4368746    4.8  228.500000 -41.263088  173.264694        -1.0  false_positives  \n",
      "\n",
      "[169444 rows x 10 columns]\n"
     ]
    }
   ],
   "source": [
    "#Vessels at port\n",
    "at_port = trawlers_df.loc[(trawlers_df['distance_from_port'] == 0.00)]\n",
    "print(f\"{len(at_port)} vessels have timestamtrawlers at port.\")\n",
    "\n",
    "print(at_port)\n"
   ]
  },
  {
   "cell_type": "code",
   "execution_count": 19,
   "id": "64f2ba1e",
   "metadata": {},
   "outputs": [],
   "source": [
    "#Droping vessels at port\n",
    "trawlers_df.drop(at_port['distance_from_port'] ,axis=0, inplace=True)\n"
   ]
  },
  {
   "cell_type": "code",
   "execution_count": 20,
   "id": "79220f73",
   "metadata": {},
   "outputs": [],
   "source": [
    "trawlers_df.loc[trawlers_df['is_fishing'] > 0, 'is_fishing'] = 1"
   ]
  },
  {
   "cell_type": "code",
   "execution_count": 21,
   "id": "5fe706e0",
   "metadata": {},
   "outputs": [
    {
     "data": {
      "text/plain": [
       "-1.0    4191706\n",
       " 0.0     112999\n",
       " 1.0      64395\n",
       "Name: is_fishing, dtype: int64"
      ]
     },
     "execution_count": 21,
     "metadata": {},
     "output_type": "execute_result"
    }
   ],
   "source": [
    "trawlers_df['is_fishing'].value_counts()"
   ]
  },
  {
   "cell_type": "code",
   "execution_count": 22,
   "id": "4be5e058",
   "metadata": {},
   "outputs": [
    {
     "name": "stderr",
     "output_type": "stream",
     "text": [
      "C:\\Users\\adars\\anaconda3\\lib\\site-packages\\seaborn\\_decorators.py:36: FutureWarning: Pass the following variable as a keyword arg: x. From version 0.12, the only valid positional argument will be `data`, and passing other arguments without an explicit keyword will result in an error or misinterpretation.\n",
      "  warnings.warn(\n"
     ]
    },
    {
     "data": {
      "text/plain": [
       "<AxesSubplot:xlabel='is_fishing', ylabel='count'>"
      ]
     },
     "execution_count": 22,
     "metadata": {},
     "output_type": "execute_result"
    },
    {
     "data": {
      "image/png": "[encoded data removed]",
      "text/plain": [
       "<Figure size 842.4x379.44 with 1 Axes>"
      ]
     },
     "metadata": {},
     "output_type": "display_data"
    }
   ],
   "source": [
    "sns.countplot(trawlers_df['is_fishing'])"
   ]
  },
  {
   "cell_type": "code",
   "execution_count": 23,
   "id": "fa6e78f6",
   "metadata": {},
   "outputs": [
    {
     "name": "stderr",
     "output_type": "stream",
     "text": [
      "C:\\Users\\adars\\anaconda3\\lib\\site-packages\\seaborn\\_decorators.py:36: FutureWarning: Pass the following variable as a keyword arg: x. From version 0.12, the only valid positional argument will be `data`, and passing other arguments without an explicit keyword will result in an error or misinterpretation.\n",
      "  warnings.warn(\n"
     ]
    },
    {
     "data": {
      "text/plain": [
       "<AxesSubplot:xlabel='mmsi', ylabel='count'>"
      ]
     },
     "execution_count": 23,
     "metadata": {},
     "output_type": "execute_result"
    },
    {
     "data": {
      "image/png": "[encoded data removed]",
      "text/plain": [
       "<Figure size 842.4x379.44 with 1 Axes>"
      ]
     },
     "metadata": {},
     "output_type": "display_data"
    }
   ],
   "source": [
    "sns.countplot(trawlers_df['mmsi'], hue = trawlers_df['is_fishing'])"
   ]
  },
  {
   "cell_type": "code",
   "execution_count": 24,
   "id": "c932aa6e",
   "metadata": {},
   "outputs": [
    {
     "name": "stdout",
     "output_type": "stream",
     "text": [
      "[1.25233980e+12 5.14548325e+12 1.98595477e+13 3.49117011e+13\n",
      " 5.11012972e+13 6.96098563e+13 7.72619287e+13 7.83596535e+13\n",
      " 8.04234501e+13 1.08916343e+14 1.12453193e+14 1.16333895e+14\n",
      " 1.21426487e+14 1.21739171e+14 1.41431601e+14 1.64146741e+14\n",
      " 1.69618621e+14 1.86746307e+14 1.92426881e+14 2.07302221e+14\n",
      " 2.18997104e+14 2.24833127e+14 2.29561307e+14 2.40226012e+14\n",
      " 2.53383409e+14 2.67609942e+14 2.68433469e+14 2.69119641e+14\n",
      " 2.74683790e+14 2.77515278e+14 1.43906915e+14 1.75387414e+14\n",
      " 2.18796485e+14 2.22656062e+14 2.31154271e+14 2.69050324e+14\n",
      " 2.74850146e+14 5.02014314e+12 8.68184448e+12 3.98594065e+13\n",
      " 4.08341145e+13 4.89395291e+13 8.30506161e+13 8.68177391e+13\n",
      " 1.10014061e+14 1.35658402e+14 1.39761125e+14 1.41400905e+14\n",
      " 1.83812835e+14]\n"
     ]
    }
   ],
   "source": [
    "#dummy data\n",
    "\n",
    "print(trawlers_df['mmsi'].unique())\n"
   ]
  },
  {
   "cell_type": "code",
   "execution_count": 25,
   "id": "f72e43c8",
   "metadata": {},
   "outputs": [
    {
     "data": {
      "text/plain": [
       "<matplotlib.collections.PathCollection at 0x1f6b0e51a30>"
      ]
     },
     "execution_count": 25,
     "metadata": {},
     "output_type": "execute_result"
    },
    {
     "data": {
      "image/png": "[encoded data removed]",
      "text/plain": [
       "<Figure size 864x432 with 1 Axes>"
      ]
     },
     "metadata": {},
     "output_type": "display_data"
    }
   ],
   "source": [
    "f = trawlers_df.loc[(trawlers_df['mmsi'] == 112940878780541.0)]\n",
    "plt.figure(figsize=(12,6))\n",
    "lons, lats = f['lon'].tolist(), f['lat'].tolist()\n",
    "m = Basemap(projection='robin', resolution = 'l', area_thresh = 1000.0, lat_0=0, lon_0=-130)\n",
    "m.bluemarble()\n",
    "m.drawmapboundary()\n",
    "m.fillcontinents()\n",
    "x, y = m(lons, lats)\n",
    "m.scatter(x, y, marker='.',color='red')\n"
   ]
  },
  {
   "cell_type": "code",
   "execution_count": null,
   "id": "04fa1721",
   "metadata": {},
   "outputs": [],
   "source": []
  }
 ],
 "metadata": {
  "kernelspec": {
   "display_name": "Python 3 (ipykernel)",
   "language": "python",
   "name": "python3"
  },
  "language_info": {
   "codemirror_mode": {
    "name": "ipython",
    "version": 3
   },
   "file_extension": ".py",
   "mimetype": "text/x-python",
   "name": "python",
   "nbconvert_exporter": "python",
   "pygments_lexer": "ipython3",
   "version": "3.9.7"
  }
 },
 "nbformat": 4,
 "nbformat_minor": 5
}
